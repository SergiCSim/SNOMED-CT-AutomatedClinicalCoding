{
 "cells": [
  {
   "cell_type": "markdown",
   "id": "bd0ca2b7-7f54-46d5-89c4-0c277663309d",
   "metadata": {},
   "source": [
    "## Examples of Use of the Vital Signs Detection Script"
   ]
  },
  {
   "cell_type": "code",
   "execution_count": 2,
   "id": "0014a5b4-1389-485b-98a2-b7a3d1e34742",
   "metadata": {},
   "outputs": [],
   "source": [
    "from vital_signs import extract_vital_signs"
   ]
  },
  {
   "cell_type": "code",
   "execution_count": 10,
   "id": "3e701a1b-63db-4687-826d-8debb0f40e9b",
   "metadata": {},
   "outputs": [
    {
     "data": {
      "text/plain": [
       "Temperature: None\n",
       "Blood Pressure: None\n",
       "Heart Rate: None\n",
       "Respiration Rate: None\n",
       "Oxygen Saturation: None"
      ]
     },
     "execution_count": 10,
     "metadata": {},
     "output_type": "execute_result"
    }
   ],
   "source": [
    "text1 = r' remained stable. Please follow up at next PCP \\_\\_\\_. [ ] Patient had a significant headache during ad'\n",
    "extract_vital_signs(text1)"
   ]
  },
  {
   "cell_type": "code",
   "execution_count": 14,
   "id": "14ee0744-4e66-420d-9cc9-d24ab6c8d4e9",
   "metadata": {},
   "outputs": [
    {
     "data": {
      "text/plain": [
       "Temperature: 98.3\n",
       "Blood Pressure: 137/69\n",
       "Heart Rate: 83\n",
       "Respiration Rate: 16\n",
       "Oxygen Saturation: 98\\%%"
      ]
     },
     "execution_count": 14,
     "metadata": {},
     "output_type": "execute_result"
    }
   ],
   "source": [
    "text2 = r': 98.3, 83, 137/69, 16, 98\\% RA GEN: NAD, AAO x 3 CV: RRR PULM: CTAB ABD: Laparoscopic incisions open'\n",
    "extract_vital_signs(text2)"
   ]
  },
  {
   "cell_type": "code",
   "execution_count": 16,
   "id": "512ddf05-084b-4f32-bc48-0db4122a8b10",
   "metadata": {},
   "outputs": [
    {
     "data": {
      "text/plain": [
       "Temperature: 97.9\n",
       "Blood Pressure: 138/67\n",
       "Heart Rate: 78\n",
       "Respiration Rate: 20\n",
       "Oxygen Saturation: 98%"
      ]
     },
     "execution_count": 16,
     "metadata": {},
     "output_type": "execute_result"
    }
   ],
   "source": [
    "text3 = r'-  T 97.9 BP138/67 HR78 RR20 SaO2 98RA GENERAL: Alert, oriented, no acute distress   HEENT: Sclera a'\n",
    "extract_vital_signs(text3)"
   ]
  },
  {
   "cell_type": "code",
   "execution_count": 18,
   "id": "e32c046a-884f-49d6-9255-60aacaf7cc9d",
   "metadata": {},
   "outputs": [
    {
     "data": {
      "text/plain": [
       "Temperature: 98.8;\n",
       "Blood Pressure: 140/47;\n",
       "Heart Rate: 102\n",
       "Respiration Rate: 20;\n",
       "Oxygen Saturation: None"
      ]
     },
     "execution_count": 18,
     "metadata": {},
     "output_type": "execute_result"
    }
   ],
   "source": [
    "text4 = r': Temp 98.8; BP 140/47; HR 102; RR 20;  SpO2 93\\% on 3L. .   Currently, her dyspnea is much better.  '\n",
    "extract_vital_signs(text4)"
   ]
  },
  {
   "cell_type": "code",
   "execution_count": 20,
   "id": "55b1356f-a732-45b9-b229-1ecd61a69dde",
   "metadata": {},
   "outputs": [
    {
     "data": {
      "text/plain": [
       "Temperature: None\n",
       "Blood Pressure: 105/55\n",
       "Heart Rate: 56\n",
       "Respiration Rate: 18\n",
       "Oxygen Saturation: 94\\%%"
      ]
     },
     "execution_count": 20,
     "metadata": {},
     "output_type": "execute_result"
    }
   ],
   "source": [
    "text5 = r' prior to transfer were: 56 105/55 18 94\\% RA    Upon arrival to the floor, pt CP free. No SOB, dizzi'\n",
    "extract_vital_signs(text5)"
   ]
  }
 ],
 "metadata": {
  "kernelspec": {
   "display_name": "Python 3 (ipykernel)",
   "language": "python",
   "name": "python3"
  },
  "language_info": {
   "codemirror_mode": {
    "name": "ipython",
    "version": 3
   },
   "file_extension": ".py",
   "mimetype": "text/x-python",
   "name": "python",
   "nbconvert_exporter": "python",
   "pygments_lexer": "ipython3",
   "version": "3.12.4"
  }
 },
 "nbformat": 4,
 "nbformat_minor": 5
}
