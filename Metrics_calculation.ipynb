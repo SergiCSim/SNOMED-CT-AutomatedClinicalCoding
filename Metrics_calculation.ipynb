{
 "cells": [
  {
   "cell_type": "markdown",
   "id": "69edab72-9e02-4ea6-a3c8-8ded06e93288",
   "metadata": {},
   "source": [
    "## Example of the Calculation of the Metrics for One Submission"
   ]
  },
  {
   "cell_type": "markdown",
   "id": "0ce8ff3a-45e8-4c39-abe7-cca858a0e2b0",
   "metadata": {},
   "source": [
    "Read the data:"
   ]
  },
  {
   "cell_type": "code",
   "execution_count": 3,
   "id": "02af8870-b762-49dc-b323-9e9bdbc8d6d0",
   "metadata": {},
   "outputs": [],
   "source": [
    "import pandas as pd"
   ]
  },
  {
   "cell_type": "code",
   "execution_count": 4,
   "id": "2fa765c5-33dd-4700-81d2-440fb2c40e74",
   "metadata": {},
   "outputs": [],
   "source": [
    "train_notes = pd.read_csv('data/train_test_data/mimic-iv_notes_training_set.csv')\n",
    "train_ann = pd.read_csv('data/train_test_data/train_annotations.csv')\n",
    "test_notes = pd.read_csv('data/train_test_data/test_notes.csv')\n",
    "test_ann = pd.read_csv('data/train_test_data/test_annotations.csv')"
   ]
  },
  {
   "cell_type": "markdown",
   "id": "ee2f8e41-1328-4097-ba07-9dcc253982ca",
   "metadata": {},
   "source": [
    "Assert that the data is correct (e.g.: there is not overlap of note IDs between train and test):"
   ]
  },
  {
   "cell_type": "code",
   "execution_count": 6,
   "id": "6fee6d71-6a98-46b7-8732-440e77b9e7f9",
   "metadata": {},
   "outputs": [],
   "source": [
    "train_notes_ids = set(train_notes.note_id.unique())\n",
    "test_notes_ids = set(test_notes.note_id.unique())\n",
    "train_ann_ids = set(train_ann.note_id.unique())"
   ]
  },
  {
   "cell_type": "code",
   "execution_count": 7,
   "id": "3b5b1eb7-ef7f-452a-a820-7ebcc3453683",
   "metadata": {},
   "outputs": [],
   "source": [
    "assert len(train_notes_ids.intersection(train_ann_ids)) == len(train_notes_ids) == len(train_ann_ids)"
   ]
  },
  {
   "cell_type": "code",
   "execution_count": 8,
   "id": "7b30bc45-d47c-4394-a2c7-c60891585c78",
   "metadata": {},
   "outputs": [],
   "source": [
    "assert len(train_notes_ids.intersection(test_notes_ids)) == len(train_ann_ids.intersection(test_notes_ids)) == 0"
   ]
  },
  {
   "cell_type": "markdown",
   "id": "379b4ef5-331c-428d-88fc-44972868ec34",
   "metadata": {},
   "source": [
    "Calculate the metrics:"
   ]
  },
  {
   "cell_type": "code",
   "execution_count": 10,
   "id": "5387ebf2-e42a-47a3-b7b4-c4bc20b39c36",
   "metadata": {},
   "outputs": [],
   "source": [
    "from metrics import *"
   ]
  },
  {
   "cell_type": "code",
   "execution_count": 11,
   "id": "e0d23e25-4481-4b71-a1de-4d76d74e5661",
   "metadata": {},
   "outputs": [],
   "source": [
    "submission = pd.read_csv('submissions/submission_1_0.csv')"
   ]
  },
  {
   "cell_type": "code",
   "execution_count": 12,
   "id": "e685a5a2-eaa4-4111-9397-9b0d4b0000a3",
   "metadata": {},
   "outputs": [
    {
     "name": "stdout",
     "output_type": "stream",
     "text": [
      "mIoU = 0.4274030005272965\n",
      "f1_score = (0.7056210160324512, 0.7281243771177995, 0.7166960957425936)\n",
      "macro_f1_score = 0.44751554682483224\n"
     ]
    }
   ],
   "source": [
    "import shutil\n",
    "import numpy as np\n",
    "\n",
    "iou = miou(submission, test_ann)\n",
    "print('mIoU =', iou)\n",
    "f1_score = f1_score(submission, test_ann)\n",
    "print('f1_score =', f1_score)\n",
    "macro_f1_score = macro_f1_score(submission, test_ann)\n",
    "print('macro_f1_score =', macro_f1_score)"
   ]
  },
  {
   "cell_type": "code",
   "execution_count": null,
   "id": "b7e38156-1d72-4623-8f99-de3b677234db",
   "metadata": {},
   "outputs": [],
   "source": []
  }
 ],
 "metadata": {
  "kernelspec": {
   "display_name": "Python 3 (ipykernel)",
   "language": "python",
   "name": "python3"
  },
  "language_info": {
   "codemirror_mode": {
    "name": "ipython",
    "version": 3
   },
   "file_extension": ".py",
   "mimetype": "text/x-python",
   "name": "python",
   "nbconvert_exporter": "python",
   "pygments_lexer": "ipython3",
   "version": "3.12.4"
  }
 },
 "nbformat": 4,
 "nbformat_minor": 5
}
